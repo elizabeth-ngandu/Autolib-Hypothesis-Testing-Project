{
 "cells": [
  {
   "cell_type": "raw",
   "metadata": {},
   "source": [
    " Hypothesis Testing Report: https://docs.google.com/document/d/1YnojwJKdTbvSbGLXENipDuv2DBH5Cyyr_yI7BjUK2zE/edit?usp=sharing\n"
   ]
  },
  {
   "cell_type": "code",
   "execution_count": 4,
   "metadata": {},
   "outputs": [],
   "source": [
    "import pandas as pd\n",
    "import numpy as np\n",
    "import matplotlib.pyplot as plt\n",
    "\n",
    "import seaborn as sns\n",
    "from scipy import stats\n",
    "\n"
   ]
  },
  {
   "cell_type": "code",
   "execution_count": 8,
   "metadata": {},
   "outputs": [
    {
     "data": {
      "text/html": [
       "<div>\n",
       "<style scoped>\n",
       "    .dataframe tbody tr th:only-of-type {\n",
       "        vertical-align: middle;\n",
       "    }\n",
       "\n",
       "    .dataframe tbody tr th {\n",
       "        vertical-align: top;\n",
       "    }\n",
       "\n",
       "    .dataframe thead th {\n",
       "        text-align: right;\n",
       "    }\n",
       "</style>\n",
       "<table border=\"1\" class=\"dataframe\">\n",
       "  <thead>\n",
       "    <tr style=\"text-align: right;\">\n",
       "      <th></th>\n",
       "      <th>Postal code</th>\n",
       "      <th>date</th>\n",
       "      <th>n_daily_data_points</th>\n",
       "      <th>dayOfWeek</th>\n",
       "      <th>day_type</th>\n",
       "      <th>BlueCars_taken_sum</th>\n",
       "      <th>BlueCars_returned_sum</th>\n",
       "      <th>Utilib_taken_sum</th>\n",
       "      <th>Utilib_returned_sum</th>\n",
       "      <th>Utilib_14_taken_sum</th>\n",
       "      <th>Utilib_14_returned_sum</th>\n",
       "      <th>Slots_freed_sum</th>\n",
       "      <th>Slots_taken_sum</th>\n",
       "    </tr>\n",
       "  </thead>\n",
       "  <tbody>\n",
       "    <tr>\n",
       "      <td>0</td>\n",
       "      <td>75001</td>\n",
       "      <td>1/1/2018</td>\n",
       "      <td>1440</td>\n",
       "      <td>0</td>\n",
       "      <td>weekday</td>\n",
       "      <td>110</td>\n",
       "      <td>103</td>\n",
       "      <td>3</td>\n",
       "      <td>2</td>\n",
       "      <td>10</td>\n",
       "      <td>9</td>\n",
       "      <td>22</td>\n",
       "      <td>20</td>\n",
       "    </tr>\n",
       "    <tr>\n",
       "      <td>1</td>\n",
       "      <td>75001</td>\n",
       "      <td>1/2/2018</td>\n",
       "      <td>1438</td>\n",
       "      <td>1</td>\n",
       "      <td>weekday</td>\n",
       "      <td>98</td>\n",
       "      <td>94</td>\n",
       "      <td>1</td>\n",
       "      <td>1</td>\n",
       "      <td>8</td>\n",
       "      <td>8</td>\n",
       "      <td>23</td>\n",
       "      <td>22</td>\n",
       "    </tr>\n",
       "    <tr>\n",
       "      <td>2</td>\n",
       "      <td>75001</td>\n",
       "      <td>1/3/2018</td>\n",
       "      <td>1439</td>\n",
       "      <td>2</td>\n",
       "      <td>weekday</td>\n",
       "      <td>138</td>\n",
       "      <td>139</td>\n",
       "      <td>0</td>\n",
       "      <td>0</td>\n",
       "      <td>2</td>\n",
       "      <td>2</td>\n",
       "      <td>27</td>\n",
       "      <td>27</td>\n",
       "    </tr>\n",
       "    <tr>\n",
       "      <td>3</td>\n",
       "      <td>75001</td>\n",
       "      <td>1/4/2018</td>\n",
       "      <td>1320</td>\n",
       "      <td>3</td>\n",
       "      <td>weekday</td>\n",
       "      <td>104</td>\n",
       "      <td>104</td>\n",
       "      <td>2</td>\n",
       "      <td>2</td>\n",
       "      <td>9</td>\n",
       "      <td>8</td>\n",
       "      <td>25</td>\n",
       "      <td>21</td>\n",
       "    </tr>\n",
       "    <tr>\n",
       "      <td>4</td>\n",
       "      <td>75001</td>\n",
       "      <td>1/5/2018</td>\n",
       "      <td>1440</td>\n",
       "      <td>4</td>\n",
       "      <td>weekday</td>\n",
       "      <td>114</td>\n",
       "      <td>117</td>\n",
       "      <td>3</td>\n",
       "      <td>3</td>\n",
       "      <td>6</td>\n",
       "      <td>6</td>\n",
       "      <td>18</td>\n",
       "      <td>20</td>\n",
       "    </tr>\n",
       "  </tbody>\n",
       "</table>\n",
       "</div>"
      ],
      "text/plain": [
       "   Postal code      date  n_daily_data_points  dayOfWeek day_type  \\\n",
       "0        75001  1/1/2018                 1440          0  weekday   \n",
       "1        75001  1/2/2018                 1438          1  weekday   \n",
       "2        75001  1/3/2018                 1439          2  weekday   \n",
       "3        75001  1/4/2018                 1320          3  weekday   \n",
       "4        75001  1/5/2018                 1440          4  weekday   \n",
       "\n",
       "   BlueCars_taken_sum  BlueCars_returned_sum  Utilib_taken_sum  \\\n",
       "0                 110                    103                 3   \n",
       "1                  98                     94                 1   \n",
       "2                 138                    139                 0   \n",
       "3                 104                    104                 2   \n",
       "4                 114                    117                 3   \n",
       "\n",
       "   Utilib_returned_sum  Utilib_14_taken_sum  Utilib_14_returned_sum  \\\n",
       "0                    2                   10                       9   \n",
       "1                    1                    8                       8   \n",
       "2                    0                    2                       2   \n",
       "3                    2                    9                       8   \n",
       "4                    3                    6                       6   \n",
       "\n",
       "   Slots_freed_sum  Slots_taken_sum  \n",
       "0               22               20  \n",
       "1               23               22  \n",
       "2               27               27  \n",
       "3               25               21  \n",
       "4               18               20  "
      ]
     },
     "execution_count": 8,
     "metadata": {},
     "output_type": "execute_result"
    }
   ],
   "source": [
    "autolib=pd.read_csv('autolib_daily_events_postal_code.csv')\n",
    "autolib.head()"
   ]
  },
  {
   "cell_type": "code",
   "execution_count": 13,
   "metadata": {},
   "outputs": [
    {
     "data": {
      "text/html": [
       "<div>\n",
       "<style scoped>\n",
       "    .dataframe tbody tr th:only-of-type {\n",
       "        vertical-align: middle;\n",
       "    }\n",
       "\n",
       "    .dataframe tbody tr th {\n",
       "        vertical-align: top;\n",
       "    }\n",
       "\n",
       "    .dataframe thead th {\n",
       "        text-align: right;\n",
       "    }\n",
       "</style>\n",
       "<table border=\"1\" class=\"dataframe\">\n",
       "  <thead>\n",
       "    <tr style=\"text-align: right;\">\n",
       "      <th></th>\n",
       "      <th>Postal code</th>\n",
       "      <th>date</th>\n",
       "      <th>n_daily_data_points</th>\n",
       "      <th>dayOfWeek</th>\n",
       "      <th>day_type</th>\n",
       "      <th>BlueCars_taken_sum</th>\n",
       "      <th>BlueCars_returned_sum</th>\n",
       "      <th>Utilib_taken_sum</th>\n",
       "      <th>Utilib_returned_sum</th>\n",
       "      <th>Utilib_14_taken_sum</th>\n",
       "      <th>Utilib_14_returned_sum</th>\n",
       "      <th>Slots_freed_sum</th>\n",
       "      <th>Slots_taken_sum</th>\n",
       "    </tr>\n",
       "  </thead>\n",
       "  <tbody>\n",
       "    <tr>\n",
       "      <td>16080</td>\n",
       "      <td>95880</td>\n",
       "      <td>6/15/2018</td>\n",
       "      <td>1440</td>\n",
       "      <td>4</td>\n",
       "      <td>weekday</td>\n",
       "      <td>15</td>\n",
       "      <td>10</td>\n",
       "      <td>0</td>\n",
       "      <td>0</td>\n",
       "      <td>2</td>\n",
       "      <td>3</td>\n",
       "      <td>0</td>\n",
       "      <td>0</td>\n",
       "    </tr>\n",
       "    <tr>\n",
       "      <td>16081</td>\n",
       "      <td>95880</td>\n",
       "      <td>6/16/2018</td>\n",
       "      <td>1440</td>\n",
       "      <td>5</td>\n",
       "      <td>weekend</td>\n",
       "      <td>19</td>\n",
       "      <td>19</td>\n",
       "      <td>0</td>\n",
       "      <td>0</td>\n",
       "      <td>2</td>\n",
       "      <td>1</td>\n",
       "      <td>0</td>\n",
       "      <td>0</td>\n",
       "    </tr>\n",
       "    <tr>\n",
       "      <td>16082</td>\n",
       "      <td>95880</td>\n",
       "      <td>6/17/2018</td>\n",
       "      <td>1440</td>\n",
       "      <td>6</td>\n",
       "      <td>weekend</td>\n",
       "      <td>33</td>\n",
       "      <td>35</td>\n",
       "      <td>1</td>\n",
       "      <td>1</td>\n",
       "      <td>0</td>\n",
       "      <td>0</td>\n",
       "      <td>0</td>\n",
       "      <td>0</td>\n",
       "    </tr>\n",
       "    <tr>\n",
       "      <td>16083</td>\n",
       "      <td>95880</td>\n",
       "      <td>6/18/2018</td>\n",
       "      <td>1440</td>\n",
       "      <td>0</td>\n",
       "      <td>weekday</td>\n",
       "      <td>11</td>\n",
       "      <td>14</td>\n",
       "      <td>3</td>\n",
       "      <td>5</td>\n",
       "      <td>2</td>\n",
       "      <td>2</td>\n",
       "      <td>0</td>\n",
       "      <td>0</td>\n",
       "    </tr>\n",
       "    <tr>\n",
       "      <td>16084</td>\n",
       "      <td>95880</td>\n",
       "      <td>6/19/2018</td>\n",
       "      <td>1370</td>\n",
       "      <td>1</td>\n",
       "      <td>weekday</td>\n",
       "      <td>2</td>\n",
       "      <td>2</td>\n",
       "      <td>2</td>\n",
       "      <td>1</td>\n",
       "      <td>0</td>\n",
       "      <td>0</td>\n",
       "      <td>0</td>\n",
       "      <td>0</td>\n",
       "    </tr>\n",
       "  </tbody>\n",
       "</table>\n",
       "</div>"
      ],
      "text/plain": [
       "      Postal code       date n_daily_data_points dayOfWeek day_type  \\\n",
       "16080       95880  6/15/2018                1440         4  weekday   \n",
       "16081       95880  6/16/2018                1440         5  weekend   \n",
       "16082       95880  6/17/2018                1440         6  weekend   \n",
       "16083       95880  6/18/2018                1440         0  weekday   \n",
       "16084       95880  6/19/2018                1370         1  weekday   \n",
       "\n",
       "       BlueCars_taken_sum  BlueCars_returned_sum  Utilib_taken_sum  \\\n",
       "16080                  15                     10                 0   \n",
       "16081                  19                     19                 0   \n",
       "16082                  33                     35                 1   \n",
       "16083                  11                     14                 3   \n",
       "16084                   2                      2                 2   \n",
       "\n",
       "       Utilib_returned_sum  Utilib_14_taken_sum  Utilib_14_returned_sum  \\\n",
       "16080                    0                    2                       3   \n",
       "16081                    0                    2                       1   \n",
       "16082                    1                    0                       0   \n",
       "16083                    5                    2                       2   \n",
       "16084                    1                    0                       0   \n",
       "\n",
       "       Slots_freed_sum  Slots_taken_sum  \n",
       "16080                0                0  \n",
       "16081                0                0  \n",
       "16082                0                0  \n",
       "16083                0                0  \n",
       "16084                0                0  "
      ]
     },
     "execution_count": 13,
     "metadata": {},
     "output_type": "execute_result"
    }
   ],
   "source": [
    "autolib.tail()"
   ]
  },
  {
   "cell_type": "code",
   "execution_count": 9,
   "metadata": {},
   "outputs": [
    {
     "data": {
      "text/plain": [
       "(16085, 13)"
      ]
     },
     "execution_count": 9,
     "metadata": {},
     "output_type": "execute_result"
    }
   ],
   "source": [
    "autolib.shape"
   ]
  },
  {
   "cell_type": "code",
   "execution_count": 10,
   "metadata": {},
   "outputs": [
    {
     "data": {
      "text/html": [
       "<div>\n",
       "<style scoped>\n",
       "    .dataframe tbody tr th:only-of-type {\n",
       "        vertical-align: middle;\n",
       "    }\n",
       "\n",
       "    .dataframe tbody tr th {\n",
       "        vertical-align: top;\n",
       "    }\n",
       "\n",
       "    .dataframe thead th {\n",
       "        text-align: right;\n",
       "    }\n",
       "</style>\n",
       "<table border=\"1\" class=\"dataframe\">\n",
       "  <thead>\n",
       "    <tr style=\"text-align: right;\">\n",
       "      <th></th>\n",
       "      <th>Postal code</th>\n",
       "      <th>n_daily_data_points</th>\n",
       "      <th>dayOfWeek</th>\n",
       "      <th>BlueCars_taken_sum</th>\n",
       "      <th>BlueCars_returned_sum</th>\n",
       "      <th>Utilib_taken_sum</th>\n",
       "      <th>Utilib_returned_sum</th>\n",
       "      <th>Utilib_14_taken_sum</th>\n",
       "      <th>Utilib_14_returned_sum</th>\n",
       "      <th>Slots_freed_sum</th>\n",
       "      <th>Slots_taken_sum</th>\n",
       "    </tr>\n",
       "  </thead>\n",
       "  <tbody>\n",
       "    <tr>\n",
       "      <td>count</td>\n",
       "      <td>16085.000000</td>\n",
       "      <td>16085.000000</td>\n",
       "      <td>16085.000000</td>\n",
       "      <td>16085.000000</td>\n",
       "      <td>16085.000000</td>\n",
       "      <td>16085.000000</td>\n",
       "      <td>16085.000000</td>\n",
       "      <td>16085.000000</td>\n",
       "      <td>16085.000000</td>\n",
       "      <td>16085.000000</td>\n",
       "      <td>16085.000000</td>\n",
       "    </tr>\n",
       "    <tr>\n",
       "      <td>mean</td>\n",
       "      <td>88791.293876</td>\n",
       "      <td>1431.330619</td>\n",
       "      <td>2.969599</td>\n",
       "      <td>125.926951</td>\n",
       "      <td>125.912714</td>\n",
       "      <td>3.698290</td>\n",
       "      <td>3.699099</td>\n",
       "      <td>8.600560</td>\n",
       "      <td>8.599192</td>\n",
       "      <td>22.629033</td>\n",
       "      <td>22.629282</td>\n",
       "    </tr>\n",
       "    <tr>\n",
       "      <td>std</td>\n",
       "      <td>7647.342000</td>\n",
       "      <td>33.212050</td>\n",
       "      <td>2.008378</td>\n",
       "      <td>185.426579</td>\n",
       "      <td>185.501535</td>\n",
       "      <td>5.815058</td>\n",
       "      <td>5.824634</td>\n",
       "      <td>12.870098</td>\n",
       "      <td>12.868993</td>\n",
       "      <td>52.120263</td>\n",
       "      <td>52.146030</td>\n",
       "    </tr>\n",
       "    <tr>\n",
       "      <td>min</td>\n",
       "      <td>75001.000000</td>\n",
       "      <td>1174.000000</td>\n",
       "      <td>0.000000</td>\n",
       "      <td>0.000000</td>\n",
       "      <td>0.000000</td>\n",
       "      <td>0.000000</td>\n",
       "      <td>0.000000</td>\n",
       "      <td>0.000000</td>\n",
       "      <td>0.000000</td>\n",
       "      <td>0.000000</td>\n",
       "      <td>0.000000</td>\n",
       "    </tr>\n",
       "    <tr>\n",
       "      <td>25%</td>\n",
       "      <td>91330.000000</td>\n",
       "      <td>1439.000000</td>\n",
       "      <td>1.000000</td>\n",
       "      <td>20.000000</td>\n",
       "      <td>20.000000</td>\n",
       "      <td>0.000000</td>\n",
       "      <td>0.000000</td>\n",
       "      <td>1.000000</td>\n",
       "      <td>1.000000</td>\n",
       "      <td>0.000000</td>\n",
       "      <td>0.000000</td>\n",
       "    </tr>\n",
       "    <tr>\n",
       "      <td>50%</td>\n",
       "      <td>92340.000000</td>\n",
       "      <td>1440.000000</td>\n",
       "      <td>3.000000</td>\n",
       "      <td>46.000000</td>\n",
       "      <td>46.000000</td>\n",
       "      <td>1.000000</td>\n",
       "      <td>1.000000</td>\n",
       "      <td>3.000000</td>\n",
       "      <td>3.000000</td>\n",
       "      <td>0.000000</td>\n",
       "      <td>0.000000</td>\n",
       "    </tr>\n",
       "    <tr>\n",
       "      <td>75%</td>\n",
       "      <td>93400.000000</td>\n",
       "      <td>1440.000000</td>\n",
       "      <td>5.000000</td>\n",
       "      <td>135.000000</td>\n",
       "      <td>135.000000</td>\n",
       "      <td>4.000000</td>\n",
       "      <td>4.000000</td>\n",
       "      <td>10.000000</td>\n",
       "      <td>10.000000</td>\n",
       "      <td>5.000000</td>\n",
       "      <td>5.000000</td>\n",
       "    </tr>\n",
       "    <tr>\n",
       "      <td>max</td>\n",
       "      <td>95880.000000</td>\n",
       "      <td>1440.000000</td>\n",
       "      <td>6.000000</td>\n",
       "      <td>1352.000000</td>\n",
       "      <td>1332.000000</td>\n",
       "      <td>54.000000</td>\n",
       "      <td>58.000000</td>\n",
       "      <td>100.000000</td>\n",
       "      <td>101.000000</td>\n",
       "      <td>360.000000</td>\n",
       "      <td>359.000000</td>\n",
       "    </tr>\n",
       "  </tbody>\n",
       "</table>\n",
       "</div>"
      ],
      "text/plain": [
       "        Postal code  n_daily_data_points     dayOfWeek  BlueCars_taken_sum  \\\n",
       "count  16085.000000         16085.000000  16085.000000        16085.000000   \n",
       "mean   88791.293876          1431.330619      2.969599          125.926951   \n",
       "std     7647.342000            33.212050      2.008378          185.426579   \n",
       "min    75001.000000          1174.000000      0.000000            0.000000   \n",
       "25%    91330.000000          1439.000000      1.000000           20.000000   \n",
       "50%    92340.000000          1440.000000      3.000000           46.000000   \n",
       "75%    93400.000000          1440.000000      5.000000          135.000000   \n",
       "max    95880.000000          1440.000000      6.000000         1352.000000   \n",
       "\n",
       "       BlueCars_returned_sum  Utilib_taken_sum  Utilib_returned_sum  \\\n",
       "count           16085.000000      16085.000000         16085.000000   \n",
       "mean              125.912714          3.698290             3.699099   \n",
       "std               185.501535          5.815058             5.824634   \n",
       "min                 0.000000          0.000000             0.000000   \n",
       "25%                20.000000          0.000000             0.000000   \n",
       "50%                46.000000          1.000000             1.000000   \n",
       "75%               135.000000          4.000000             4.000000   \n",
       "max              1332.000000         54.000000            58.000000   \n",
       "\n",
       "       Utilib_14_taken_sum  Utilib_14_returned_sum  Slots_freed_sum  \\\n",
       "count         16085.000000            16085.000000     16085.000000   \n",
       "mean              8.600560                8.599192        22.629033   \n",
       "std              12.870098               12.868993        52.120263   \n",
       "min               0.000000                0.000000         0.000000   \n",
       "25%               1.000000                1.000000         0.000000   \n",
       "50%               3.000000                3.000000         0.000000   \n",
       "75%              10.000000               10.000000         5.000000   \n",
       "max             100.000000              101.000000       360.000000   \n",
       "\n",
       "       Slots_taken_sum  \n",
       "count     16085.000000  \n",
       "mean         22.629282  \n",
       "std          52.146030  \n",
       "min           0.000000  \n",
       "25%           0.000000  \n",
       "50%           0.000000  \n",
       "75%           5.000000  \n",
       "max         359.000000  "
      ]
     },
     "execution_count": 10,
     "metadata": {},
     "output_type": "execute_result"
    }
   ],
   "source": [
    "autolib.describe()"
   ]
  },
  {
   "cell_type": "markdown",
   "metadata": {},
   "source": [
    "# Data Cleaning"
   ]
  },
  {
   "cell_type": "code",
   "execution_count": 11,
   "metadata": {},
   "outputs": [
    {
     "data": {
      "text/plain": [
       "Postal code                int64\n",
       "date                      object\n",
       "n_daily_data_points        int64\n",
       "dayOfWeek                  int64\n",
       "day_type                  object\n",
       "BlueCars_taken_sum         int64\n",
       "BlueCars_returned_sum      int64\n",
       "Utilib_taken_sum           int64\n",
       "Utilib_returned_sum        int64\n",
       "Utilib_14_taken_sum        int64\n",
       "Utilib_14_returned_sum     int64\n",
       "Slots_freed_sum            int64\n",
       "Slots_taken_sum            int64\n",
       "dtype: object"
      ]
     },
     "execution_count": 11,
     "metadata": {},
     "output_type": "execute_result"
    }
   ],
   "source": [
    "#checking for the data types of fields in the dataset\n",
    "autolib.dtypes"
   ]
  },
  {
   "cell_type": "raw",
   "metadata": {},
   "source": [
    "date, postal code have the wrong data type"
   ]
  },
  {
   "cell_type": "code",
   "execution_count": 139,
   "metadata": {},
   "outputs": [
    {
     "data": {
      "text/plain": [
       "Postal code               object\n",
       "n_daily_data_points       object\n",
       "dayOfWeek                 object\n",
       "day_type                  object\n",
       "BlueCars_taken_sum         int64\n",
       "BlueCars_returned_sum      int64\n",
       "Utilib_taken_sum           int64\n",
       "Utilib_returned_sum        int64\n",
       "Utilib_14_taken_sum        int64\n",
       "Utilib_14_returned_sum     int64\n",
       "Slots_freed_sum            int64\n",
       "Slots_taken_sum            int64\n",
       "dtype: object"
      ]
     },
     "execution_count": 139,
     "metadata": {},
     "output_type": "execute_result"
    }
   ],
   "source": [
    "#changing the data type to string \n",
    "autolib['Postal code']=autolib['Postal code'].astype(str)\n",
    "autolib['dayOfWeek']=autolib['dayOfWeek'].astype(str)\n",
    "autolib['n_daily_data_points']=autolib['n_daily_data_points'].astype(str)\n",
    "autolib.dtypes"
   ]
  },
  {
   "cell_type": "code",
   "execution_count": 14,
   "metadata": {},
   "outputs": [
    {
     "data": {
      "text/plain": [
       "dtype('<M8[ns]')"
      ]
     },
     "execution_count": 14,
     "metadata": {},
     "output_type": "execute_result"
    }
   ],
   "source": [
    "#changing the data type to date\n",
    "autolib['date']=pd.to_datetime(autolib['date'])\n",
    "autolib['date'].dtype"
   ]
  },
  {
   "cell_type": "code",
   "execution_count": 140,
   "metadata": {},
   "outputs": [
    {
     "data": {
      "text/plain": [
       "<bound method DataFrame.drop_duplicates of            Postal code n_daily_data_points dayOfWeek day_type  \\\n",
       "date                                                            \n",
       "2018-01-01       75001                1440         0  weekday   \n",
       "2018-01-02       75001                1438         1  weekday   \n",
       "2018-01-03       75001                1439         2  weekday   \n",
       "2018-01-04       75001                1320         3  weekday   \n",
       "2018-01-05       75001                1440         4  weekday   \n",
       "...                ...                 ...       ...      ...   \n",
       "2018-06-15       95880                1440         4  weekday   \n",
       "2018-06-16       95880                1440         5  weekend   \n",
       "2018-06-17       95880                1440         6  weekend   \n",
       "2018-06-18       95880                1440         0  weekday   \n",
       "2018-06-19       95880                1370         1  weekday   \n",
       "\n",
       "            BlueCars_taken_sum  BlueCars_returned_sum  Utilib_taken_sum  \\\n",
       "date                                                                      \n",
       "2018-01-01                 110                    103                 3   \n",
       "2018-01-02                  98                     94                 1   \n",
       "2018-01-03                 138                    139                 0   \n",
       "2018-01-04                 104                    104                 2   \n",
       "2018-01-05                 114                    117                 3   \n",
       "...                        ...                    ...               ...   \n",
       "2018-06-15                  15                     10                 0   \n",
       "2018-06-16                  19                     19                 0   \n",
       "2018-06-17                  33                     35                 1   \n",
       "2018-06-18                  11                     14                 3   \n",
       "2018-06-19                   2                      2                 2   \n",
       "\n",
       "            Utilib_returned_sum  Utilib_14_taken_sum  Utilib_14_returned_sum  \\\n",
       "date                                                                           \n",
       "2018-01-01                    2                   10                       9   \n",
       "2018-01-02                    1                    8                       8   \n",
       "2018-01-03                    0                    2                       2   \n",
       "2018-01-04                    2                    9                       8   \n",
       "2018-01-05                    3                    6                       6   \n",
       "...                         ...                  ...                     ...   \n",
       "2018-06-15                    0                    2                       3   \n",
       "2018-06-16                    0                    2                       1   \n",
       "2018-06-17                    1                    0                       0   \n",
       "2018-06-18                    5                    2                       2   \n",
       "2018-06-19                    1                    0                       0   \n",
       "\n",
       "            Slots_freed_sum  Slots_taken_sum  \n",
       "date                                          \n",
       "2018-01-01               22               20  \n",
       "2018-01-02               23               22  \n",
       "2018-01-03               27               27  \n",
       "2018-01-04               25               21  \n",
       "2018-01-05               18               20  \n",
       "...                     ...              ...  \n",
       "2018-06-15                0                0  \n",
       "2018-06-16                0                0  \n",
       "2018-06-17                0                0  \n",
       "2018-06-18                0                0  \n",
       "2018-06-19                0                0  \n",
       "\n",
       "[16085 rows x 12 columns]>"
      ]
     },
     "execution_count": 140,
     "metadata": {},
     "output_type": "execute_result"
    }
   ],
   "source": [
    "#checking for duplicates\n",
    "\n",
    "duplicated=autolib.drop_duplicates\n",
    "duplicated"
   ]
  },
  {
   "cell_type": "raw",
   "metadata": {},
   "source": [
    "No duplicates found"
   ]
  },
  {
   "cell_type": "code",
   "execution_count": 16,
   "metadata": {},
   "outputs": [
    {
     "data": {
      "text/plain": [
       "Index(['Postal code', 'date', 'n_daily_data_points', 'dayOfWeek', 'day_type',\n",
       "       'BlueCars_taken_sum', 'BlueCars_returned_sum', 'Utilib_taken_sum',\n",
       "       'Utilib_returned_sum', 'Utilib_14_taken_sum', 'Utilib_14_returned_sum',\n",
       "       'Slots_freed_sum', 'Slots_taken_sum'],\n",
       "      dtype='object')"
      ]
     },
     "execution_count": 16,
     "metadata": {},
     "output_type": "execute_result"
    }
   ],
   "source": [
    "#stripping all the spaces in our column names\n",
    "autolib.columns.str.strip()"
   ]
  },
  {
   "cell_type": "code",
   "execution_count": 17,
   "metadata": {},
   "outputs": [
    {
     "data": {
      "text/html": [
       "<div>\n",
       "<style scoped>\n",
       "    .dataframe tbody tr th:only-of-type {\n",
       "        vertical-align: middle;\n",
       "    }\n",
       "\n",
       "    .dataframe tbody tr th {\n",
       "        vertical-align: top;\n",
       "    }\n",
       "\n",
       "    .dataframe thead th {\n",
       "        text-align: right;\n",
       "    }\n",
       "</style>\n",
       "<table border=\"1\" class=\"dataframe\">\n",
       "  <thead>\n",
       "    <tr style=\"text-align: right;\">\n",
       "      <th></th>\n",
       "      <th>Postal code</th>\n",
       "      <th>n_daily_data_points</th>\n",
       "      <th>dayOfWeek</th>\n",
       "      <th>day_type</th>\n",
       "      <th>BlueCars_taken_sum</th>\n",
       "      <th>BlueCars_returned_sum</th>\n",
       "      <th>Utilib_taken_sum</th>\n",
       "      <th>Utilib_returned_sum</th>\n",
       "      <th>Utilib_14_taken_sum</th>\n",
       "      <th>Utilib_14_returned_sum</th>\n",
       "      <th>Slots_freed_sum</th>\n",
       "      <th>Slots_taken_sum</th>\n",
       "    </tr>\n",
       "    <tr>\n",
       "      <th>date</th>\n",
       "      <th></th>\n",
       "      <th></th>\n",
       "      <th></th>\n",
       "      <th></th>\n",
       "      <th></th>\n",
       "      <th></th>\n",
       "      <th></th>\n",
       "      <th></th>\n",
       "      <th></th>\n",
       "      <th></th>\n",
       "      <th></th>\n",
       "      <th></th>\n",
       "    </tr>\n",
       "  </thead>\n",
       "  <tbody>\n",
       "    <tr>\n",
       "      <td>2018-01-01</td>\n",
       "      <td>75001</td>\n",
       "      <td>1440</td>\n",
       "      <td>0</td>\n",
       "      <td>weekday</td>\n",
       "      <td>110</td>\n",
       "      <td>103</td>\n",
       "      <td>3</td>\n",
       "      <td>2</td>\n",
       "      <td>10</td>\n",
       "      <td>9</td>\n",
       "      <td>22</td>\n",
       "      <td>20</td>\n",
       "    </tr>\n",
       "    <tr>\n",
       "      <td>2018-01-02</td>\n",
       "      <td>75001</td>\n",
       "      <td>1438</td>\n",
       "      <td>1</td>\n",
       "      <td>weekday</td>\n",
       "      <td>98</td>\n",
       "      <td>94</td>\n",
       "      <td>1</td>\n",
       "      <td>1</td>\n",
       "      <td>8</td>\n",
       "      <td>8</td>\n",
       "      <td>23</td>\n",
       "      <td>22</td>\n",
       "    </tr>\n",
       "    <tr>\n",
       "      <td>2018-01-03</td>\n",
       "      <td>75001</td>\n",
       "      <td>1439</td>\n",
       "      <td>2</td>\n",
       "      <td>weekday</td>\n",
       "      <td>138</td>\n",
       "      <td>139</td>\n",
       "      <td>0</td>\n",
       "      <td>0</td>\n",
       "      <td>2</td>\n",
       "      <td>2</td>\n",
       "      <td>27</td>\n",
       "      <td>27</td>\n",
       "    </tr>\n",
       "    <tr>\n",
       "      <td>2018-01-04</td>\n",
       "      <td>75001</td>\n",
       "      <td>1320</td>\n",
       "      <td>3</td>\n",
       "      <td>weekday</td>\n",
       "      <td>104</td>\n",
       "      <td>104</td>\n",
       "      <td>2</td>\n",
       "      <td>2</td>\n",
       "      <td>9</td>\n",
       "      <td>8</td>\n",
       "      <td>25</td>\n",
       "      <td>21</td>\n",
       "    </tr>\n",
       "    <tr>\n",
       "      <td>2018-01-05</td>\n",
       "      <td>75001</td>\n",
       "      <td>1440</td>\n",
       "      <td>4</td>\n",
       "      <td>weekday</td>\n",
       "      <td>114</td>\n",
       "      <td>117</td>\n",
       "      <td>3</td>\n",
       "      <td>3</td>\n",
       "      <td>6</td>\n",
       "      <td>6</td>\n",
       "      <td>18</td>\n",
       "      <td>20</td>\n",
       "    </tr>\n",
       "  </tbody>\n",
       "</table>\n",
       "</div>"
      ],
      "text/plain": [
       "           Postal code n_daily_data_points dayOfWeek day_type  \\\n",
       "date                                                            \n",
       "2018-01-01       75001                1440         0  weekday   \n",
       "2018-01-02       75001                1438         1  weekday   \n",
       "2018-01-03       75001                1439         2  weekday   \n",
       "2018-01-04       75001                1320         3  weekday   \n",
       "2018-01-05       75001                1440         4  weekday   \n",
       "\n",
       "            BlueCars_taken_sum  BlueCars_returned_sum  Utilib_taken_sum  \\\n",
       "date                                                                      \n",
       "2018-01-01                 110                    103                 3   \n",
       "2018-01-02                  98                     94                 1   \n",
       "2018-01-03                 138                    139                 0   \n",
       "2018-01-04                 104                    104                 2   \n",
       "2018-01-05                 114                    117                 3   \n",
       "\n",
       "            Utilib_returned_sum  Utilib_14_taken_sum  Utilib_14_returned_sum  \\\n",
       "date                                                                           \n",
       "2018-01-01                    2                   10                       9   \n",
       "2018-01-02                    1                    8                       8   \n",
       "2018-01-03                    0                    2                       2   \n",
       "2018-01-04                    2                    9                       8   \n",
       "2018-01-05                    3                    6                       6   \n",
       "\n",
       "            Slots_freed_sum  Slots_taken_sum  \n",
       "date                                          \n",
       "2018-01-01               22               20  \n",
       "2018-01-02               23               22  \n",
       "2018-01-03               27               27  \n",
       "2018-01-04               25               21  \n",
       "2018-01-05               18               20  "
      ]
     },
     "execution_count": 17,
     "metadata": {},
     "output_type": "execute_result"
    }
   ],
   "source": [
    "#setting the date to be the index\n",
    "autolib=autolib.set_index('date')\n",
    "autolib.head()"
   ]
  },
  {
   "cell_type": "code",
   "execution_count": 18,
   "metadata": {},
   "outputs": [
    {
     "data": {
      "text/plain": [
       "Postal code               False\n",
       "n_daily_data_points       False\n",
       "dayOfWeek                 False\n",
       "day_type                  False\n",
       "BlueCars_taken_sum        False\n",
       "BlueCars_returned_sum     False\n",
       "Utilib_taken_sum          False\n",
       "Utilib_returned_sum       False\n",
       "Utilib_14_taken_sum       False\n",
       "Utilib_14_returned_sum    False\n",
       "Slots_freed_sum           False\n",
       "Slots_taken_sum           False\n",
       "dtype: bool"
      ]
     },
     "execution_count": 18,
     "metadata": {},
     "output_type": "execute_result"
    }
   ],
   "source": [
    "#checking for null values\n",
    "autolib.isnull().any()"
   ]
  },
  {
   "cell_type": "code",
   "execution_count": null,
   "metadata": {},
   "outputs": [],
   "source": [
    "The dataset has no null values"
   ]
  },
  {
   "cell_type": "code",
   "execution_count": 19,
   "metadata": {},
   "outputs": [
    {
     "data": {
      "image/png": "[encoded data removed]",
      "text/plain": [
       "<Figure size 1080x288 with 7 Axes>"
      ]
     },
     "metadata": {
      "needs_background": "light"
     },
     "output_type": "display_data"
    }
   ],
   "source": [
    "#checking for outliers\n",
    "col_names = ['BlueCars_taken_sum','BlueCars_returned_sum', 'Utilib_taken_sum', 'Utilib_14_taken_sum', 'Utilib_14_returned_sum', 'Slots_freed_sum', 'Slots_taken_sum']\n",
    "\n",
    "fig, ax = plt.subplots(ncols=len(col_names), figsize=(15,4))\n",
    "\n",
    "for i, col_val in enumerate(col_names):\n",
    "\n",
    "    sns.boxplot(autolib[col_val], ax=ax[i])\n",
    "    ax[i].set_title('Box plot - {}'.format(col_val), fontsize=8)\n",
    "   \n",
    "\n",
    "\n",
    "\n",
    "plt.show()"
   ]
  },
  {
   "cell_type": "raw",
   "metadata": {},
   "source": [
    "The data set contain so many outliers. Removing the ouliers would interfere with our analysis and testing. The outliers in our data seems to be relevant data to our analysis, therefore, we are not going to exclude the data from our dataset."
   ]
  },
  {
   "cell_type": "markdown",
   "metadata": {},
   "source": [
    "# Univariate Analysis"
   ]
  },
  {
   "cell_type": "code",
   "execution_count": 109,
   "metadata": {},
   "outputs": [
    {
     "data": {
      "text/plain": [
       "<matplotlib.axes._subplots.AxesSubplot at 0x2e2aa81148>"
      ]
     },
     "execution_count": 109,
     "metadata": {},
     "output_type": "execute_result"
    },
    {
     "data": {
      "image/png": "[encoded data removed]",
      "text/plain": [
       "<Figure size 432x288 with 1 Axes>"
      ]
     },
     "metadata": {
      "needs_background": "light"
     },
     "output_type": "display_data"
    }
   ],
   "source": [
    "#bar plot showing the number of blue cars taken in areas with postal code 75015 and 75017 respectively\n",
    "filtered=autolib[(autolib['Postal code']=='75015') |  (autolib['Postal code']== '75017')]\n",
    "filtered[['BlueCars_taken_sum', 'Postal code']].groupby(filtered['Postal code']).sum().plot.bar(color='green')\n"
   ]
  },
  {
   "cell_type": "code",
   "execution_count": 115,
   "metadata": {},
   "outputs": [
    {
     "data": {
      "text/plain": [
       "<matplotlib.axes._subplots.AxesSubplot at 0x2e2b1d8608>"
      ]
     },
     "execution_count": 115,
     "metadata": {},
     "output_type": "execute_result"
    },
    {
     "data": {
      "image/png": "[encoded data removed]",
      "text/plain": [
       "<Figure size 432x288 with 1 Axes>"
      ]
     },
     "metadata": {
      "needs_background": "light"
     },
     "output_type": "display_data"
    }
   ],
   "source": [
    "#value count for postal code 75015 and 75017\n",
    "filtered['Postal code'].value_counts().plot.bar(color='maroon')"
   ]
  },
  {
   "cell_type": "code",
   "execution_count": 135,
   "metadata": {},
   "outputs": [
    {
     "data": {
      "image/png": "[encoded data removed]",
      "text/plain": [
       "<Figure size 432x288 with 1 Axes>"
      ]
     },
     "metadata": {
      "needs_background": "light"
     },
     "output_type": "display_data"
    }
   ],
   "source": [
    "#Bluecars take sum distribution\n",
    "ax=sns.distplot(filtered['BlueCars_taken_sum'], rug=True, hist=True)"
   ]
  },
  {
   "cell_type": "code",
   "execution_count": null,
   "metadata": {},
   "outputs": [],
   "source": [
    "The distribution is close to a normal distribution but seem abit skewed to the right"
   ]
  },
  {
   "cell_type": "markdown",
   "metadata": {},
   "source": [
    "# Bivariate Analysis"
   ]
  },
  {
   "cell_type": "code",
   "execution_count": 24,
   "metadata": {},
   "outputs": [
    {
     "data": {
      "image/png": "[encoded data removed]",
      "text/plain": [
       "<Figure size 432x288 with 2 Axes>"
      ]
     },
     "metadata": {
      "needs_background": "light"
     },
     "output_type": "display_data"
    }
   ],
   "source": [
    "#how the numerical variables in the data is correlating\n",
    "sns.heatmap(autolib.corr(),annot=True)\n",
    "plt.show()"
   ]
  },
  {
   "cell_type": "raw",
   "metadata": {},
   "source": [
    "BlueCars_returned_sum is highly correlated with BlueCars_taken_sum (ρ = 1)\n",
    "\n",
    "Utilib_14_taken_sum is highly correlated with BlueCars_returned_sum (ρ = 0. 94)\n",
    "\n",
    "Slots_freed_sum is highly correlated with BlueCars_returned_sum (ρ = 0.95)\n",
    "\n",
    "Utilib_returned_sum is highly correlated with Utilib_taken_sum (ρ = 0.98)\n",
    "\n",
    "Slots_taken_sum is highly correlated with Slots_freed_sum (ρ = 1)"
   ]
  },
  {
   "cell_type": "code",
   "execution_count": 37,
   "metadata": {},
   "outputs": [
    {
     "data": {
      "image/png": "[encoded data removed]",
      "text/plain": [
       "<Figure size 432x288 with 1 Axes>"
      ]
     },
     "metadata": {
      "needs_background": "light"
     },
     "output_type": "display_data"
    }
   ],
   "source": [
    "#Time series visualization for Bluecars sum taken\n",
    "fig, ax=plt.subplots()\n",
    "filtered['BlueCars_taken_sum'].plot.line(linewidth=0.9)\n",
    "ax.grid(linestyle='-', linewidth='0.5', color='red')"
   ]
  },
  {
   "cell_type": "raw",
   "metadata": {},
   "source": [
    "There is a trend in the graph above. On average, there are 4 peak every in every month. This cld be indicates these were weekends."
   ]
  },
  {
   "cell_type": "code",
   "execution_count": 26,
   "metadata": {},
   "outputs": [
    {
     "name": "stdout",
     "output_type": "stream",
     "text": [
      "            BlueCars_taken_sum WeekdayName Postal code day_type\n",
      "date                                                           \n",
      "2018-01-01                 781      Monday       75015  weekday\n",
      "2018-01-02                 710     Tuesday       75015  weekday\n",
      "2018-01-03                 739   Wednesday       75015  weekday\n",
      "2018-01-04                 669    Thursday       75015  weekday\n",
      "2018-01-05                 852      Friday       75015  weekday\n",
      "...                        ...         ...         ...      ...\n",
      "2018-06-15                1093      Friday       75015  weekday\n",
      "2018-06-16                1209    Saturday       75015  weekend\n",
      "2018-06-17                1001      Sunday       75015  weekend\n",
      "2018-06-18                 669      Monday       75015  weekday\n",
      "2018-06-19                  49     Tuesday       75015  weekday\n",
      "\n",
      "[156 rows x 4 columns]\n",
      "            BlueCars_taken_sum WeekdayName Postal code day_type\n",
      "date                                                           \n",
      "2018-01-01                 634      Monday       75017  weekday\n",
      "2018-01-02                 548     Tuesday       75017  weekday\n",
      "2018-01-03                 638   Wednesday       75017  weekday\n",
      "2018-01-04                 553    Thursday       75017  weekday\n",
      "2018-01-05                 705      Friday       75017  weekday\n",
      "...                        ...         ...         ...      ...\n",
      "2018-06-15                 766      Friday       75017  weekday\n",
      "2018-06-16                 859    Saturday       75017  weekend\n",
      "2018-06-17                 729      Sunday       75017  weekend\n",
      "2018-06-18                 650      Monday       75017  weekday\n",
      "2018-06-19                  38     Tuesday       75017  weekday\n",
      "\n",
      "[156 rows x 4 columns]\n"
     ]
    },
    {
     "name": "stderr",
     "output_type": "stream",
     "text": [
      "C:\\Users\\user1\\Anaconda3\\lib\\site-packages\\ipykernel_launcher.py:1: SettingWithCopyWarning: \n",
      "A value is trying to be set on a copy of a slice from a DataFrame.\n",
      "Try using .loc[row_indexer,col_indexer] = value instead\n",
      "\n",
      "See the caveats in the documentation: http://pandas.pydata.org/pandas-docs/stable/user_guide/indexing.html#returning-a-view-versus-a-copy\n",
      "  \"\"\"Entry point for launching an IPython kernel.\n"
     ]
    }
   ],
   "source": [
    "#filter our dataframe to take only postal codes 75015 and 75017\n",
    "filtered['WeekdayName']= filtered.index.day_name()\n",
    "df0=filtered[['BlueCars_taken_sum', 'WeekdayName', 'Postal code', 'day_type']]\n",
    "df1=df0[df0['Postal code']=='75015']\n",
    "df2=df0[df0['Postal code']=='75017']\n",
    "print(df1)\n",
    "print(df2)\n"
   ]
  },
  {
   "cell_type": "code",
   "execution_count": 34,
   "metadata": {},
   "outputs": [
    {
     "data": {
      "image/png": "[encoded data removed]",
      "text/plain": [
       "<Figure size 432x288 with 1 Axes>"
      ]
     },
     "metadata": {
      "needs_background": "light"
     },
     "output_type": "display_data"
    }
   ],
   "source": [
    "#customizing the time seris plot so that the begining og the x-ticks on the grid will start on Monday\n",
    "#and end on sunday for better visualization of the trend\n",
    "import matplotlib.dates as mdates\n",
    "fig, ax=plt.subplots()\n",
    "ax.plot(df1.loc['2018-1' : '2018-02', 'BlueCars_taken_sum'], marker='.', linewidth=0.9)\n",
    "ax.grid(linestyle='-', linewidth='0.5', color='red')\n",
    "# Set x-axis major ticks to weekly interval, on Mondays\n",
    "ax.xaxis.set_major_locator(mdates.WeekdayLocator(byweekday=mdates.SUNDAY))\n",
    "# Format x-tick labels as 3-letter month name and day number\n",
    "ax.xaxis.set_major_formatter(mdates.DateFormatter('%b %d'));"
   ]
  },
  {
   "cell_type": "raw",
   "metadata": {},
   "source": [
    "It is clear that weekends had a higher rate of people taking the blue cars compared to weekdays"
   ]
  },
  {
   "cell_type": "code",
   "execution_count": 33,
   "metadata": {},
   "outputs": [
    {
     "data": {
      "image/png": "[encoded data removed]",
      "text/plain": [
       "<Figure size 432x288 with 1 Axes>"
      ]
     },
     "metadata": {
      "needs_background": "light"
     },
     "output_type": "display_data"
    }
   ],
   "source": [
    "fig, ax=plt.subplots()\n",
    "ax.plot(df2.loc['2018-1' : '2018-02', 'BlueCars_taken_sum'], marker='.')\n",
    "ax.grid(linestyle='-', linewidth='0.5', color='red')\n",
    "\n",
    "# Set x-axis major ticks to weekly interval, on Mondays\n",
    "ax.xaxis.set_major_locator(mdates.WeekdayLocator(byweekday=mdates.SUNDAY))\n",
    "# Format x-tick labels as 3-letter month name and day number\n",
    "ax.xaxis.set_major_formatter(mdates.DateFormatter('%b %d'));"
   ]
  },
  {
   "cell_type": "raw",
   "metadata": {},
   "source": [
    "There is a very intresting trend in both graphs where there is a very siginificant drop in the number of blue cars taken after the Valentine's weekend. Hmmmh!. Reason would be that people had spent alot of money during that weekend and would not afford to rent out cars on the followig weekend. : )"
   ]
  },
  {
   "cell_type": "raw",
   "metadata": {},
   "source": [
    "Back to serious analysis!: The trend for both postal code seems to follow the same pattern"
   ]
  },
  {
   "cell_type": "code",
   "execution_count": 58,
   "metadata": {},
   "outputs": [
    {
     "data": {
      "text/plain": [
       "75015    156\n",
       "75017    156\n",
       "Name: Postal code, dtype: int64"
      ]
     },
     "execution_count": 58,
     "metadata": {},
     "output_type": "execute_result"
    }
   ],
   "source": [
    "#checking the proportion of postal code 75015 and 75017 in the data set\n",
    "filtered['Postal code'].value_counts()"
   ]
  },
  {
   "cell_type": "raw",
   "metadata": {},
   "source": [
    "Our sample distribution will have a proportion of  50% postal code 75015 and 50% 75017"
   ]
  },
  {
   "cell_type": "code",
   "execution_count": 70,
   "metadata": {},
   "outputs": [
    {
     "data": {
      "text/html": [
       "<div>\n",
       "<style scoped>\n",
       "    .dataframe tbody tr th:only-of-type {\n",
       "        vertical-align: middle;\n",
       "    }\n",
       "\n",
       "    .dataframe tbody tr th {\n",
       "        vertical-align: top;\n",
       "    }\n",
       "\n",
       "    .dataframe thead th {\n",
       "        text-align: right;\n",
       "    }\n",
       "</style>\n",
       "<table border=\"1\" class=\"dataframe\">\n",
       "  <thead>\n",
       "    <tr style=\"text-align: right;\">\n",
       "      <th></th>\n",
       "      <th>BlueCars_taken_sum</th>\n",
       "      <th>WeekdayName</th>\n",
       "      <th>Postal code</th>\n",
       "      <th>day_type</th>\n",
       "    </tr>\n",
       "    <tr>\n",
       "      <th>date</th>\n",
       "      <th></th>\n",
       "      <th></th>\n",
       "      <th></th>\n",
       "      <th></th>\n",
       "    </tr>\n",
       "  </thead>\n",
       "  <tbody>\n",
       "    <tr>\n",
       "      <td>2018-05-03</td>\n",
       "      <td>773</td>\n",
       "      <td>Thursday</td>\n",
       "      <td>75015</td>\n",
       "      <td>weekday</td>\n",
       "    </tr>\n",
       "    <tr>\n",
       "      <td>2018-01-22</td>\n",
       "      <td>751</td>\n",
       "      <td>Monday</td>\n",
       "      <td>75015</td>\n",
       "      <td>weekday</td>\n",
       "    </tr>\n",
       "    <tr>\n",
       "      <td>2018-02-20</td>\n",
       "      <td>751</td>\n",
       "      <td>Tuesday</td>\n",
       "      <td>75015</td>\n",
       "      <td>weekday</td>\n",
       "    </tr>\n",
       "    <tr>\n",
       "      <td>2018-02-09</td>\n",
       "      <td>794</td>\n",
       "      <td>Friday</td>\n",
       "      <td>75015</td>\n",
       "      <td>weekday</td>\n",
       "    </tr>\n",
       "    <tr>\n",
       "      <td>2018-04-01</td>\n",
       "      <td>939</td>\n",
       "      <td>Sunday</td>\n",
       "      <td>75015</td>\n",
       "      <td>weekend</td>\n",
       "    </tr>\n",
       "    <tr>\n",
       "      <td>2018-03-14</td>\n",
       "      <td>811</td>\n",
       "      <td>Wednesday</td>\n",
       "      <td>75015</td>\n",
       "      <td>weekday</td>\n",
       "    </tr>\n",
       "    <tr>\n",
       "      <td>2018-01-02</td>\n",
       "      <td>710</td>\n",
       "      <td>Tuesday</td>\n",
       "      <td>75015</td>\n",
       "      <td>weekday</td>\n",
       "    </tr>\n",
       "    <tr>\n",
       "      <td>2018-02-16</td>\n",
       "      <td>943</td>\n",
       "      <td>Friday</td>\n",
       "      <td>75015</td>\n",
       "      <td>weekday</td>\n",
       "    </tr>\n",
       "    <tr>\n",
       "      <td>2018-02-12</td>\n",
       "      <td>723</td>\n",
       "      <td>Monday</td>\n",
       "      <td>75015</td>\n",
       "      <td>weekday</td>\n",
       "    </tr>\n",
       "    <tr>\n",
       "      <td>2018-06-16</td>\n",
       "      <td>1209</td>\n",
       "      <td>Saturday</td>\n",
       "      <td>75015</td>\n",
       "      <td>weekend</td>\n",
       "    </tr>\n",
       "    <tr>\n",
       "      <td>2018-02-10</td>\n",
       "      <td>1118</td>\n",
       "      <td>Saturday</td>\n",
       "      <td>75015</td>\n",
       "      <td>weekend</td>\n",
       "    </tr>\n",
       "    <tr>\n",
       "      <td>2018-04-25</td>\n",
       "      <td>774</td>\n",
       "      <td>Wednesday</td>\n",
       "      <td>75015</td>\n",
       "      <td>weekday</td>\n",
       "    </tr>\n",
       "    <tr>\n",
       "      <td>2018-06-02</td>\n",
       "      <td>1338</td>\n",
       "      <td>Saturday</td>\n",
       "      <td>75015</td>\n",
       "      <td>weekend</td>\n",
       "    </tr>\n",
       "    <tr>\n",
       "      <td>2018-06-04</td>\n",
       "      <td>864</td>\n",
       "      <td>Monday</td>\n",
       "      <td>75015</td>\n",
       "      <td>weekday</td>\n",
       "    </tr>\n",
       "    <tr>\n",
       "      <td>2018-03-17</td>\n",
       "      <td>1209</td>\n",
       "      <td>Saturday</td>\n",
       "      <td>75015</td>\n",
       "      <td>weekend</td>\n",
       "    </tr>\n",
       "    <tr>\n",
       "      <td>2018-03-06</td>\n",
       "      <td>829</td>\n",
       "      <td>Tuesday</td>\n",
       "      <td>75015</td>\n",
       "      <td>weekday</td>\n",
       "    </tr>\n",
       "  </tbody>\n",
       "</table>\n",
       "</div>"
      ],
      "text/plain": [
       "            BlueCars_taken_sum WeekdayName Postal code day_type\n",
       "date                                                           \n",
       "2018-05-03                 773    Thursday       75015  weekday\n",
       "2018-01-22                 751      Monday       75015  weekday\n",
       "2018-02-20                 751     Tuesday       75015  weekday\n",
       "2018-02-09                 794      Friday       75015  weekday\n",
       "2018-04-01                 939      Sunday       75015  weekend\n",
       "2018-03-14                 811   Wednesday       75015  weekday\n",
       "2018-01-02                 710     Tuesday       75015  weekday\n",
       "2018-02-16                 943      Friday       75015  weekday\n",
       "2018-02-12                 723      Monday       75015  weekday\n",
       "2018-06-16                1209    Saturday       75015  weekend\n",
       "2018-02-10                1118    Saturday       75015  weekend\n",
       "2018-04-25                 774   Wednesday       75015  weekday\n",
       "2018-06-02                1338    Saturday       75015  weekend\n",
       "2018-06-04                 864      Monday       75015  weekday\n",
       "2018-03-17                1209    Saturday       75015  weekend\n",
       "2018-03-06                 829     Tuesday       75015  weekday"
      ]
     },
     "execution_count": 70,
     "metadata": {},
     "output_type": "execute_result"
    }
   ],
   "source": [
    "#selecting a sample of postal code 75015\n",
    "np.random.seed(5)\n",
    "sample_1=df1.sample(n=16)\n",
    "sample_1"
   ]
  },
  {
   "cell_type": "code",
   "execution_count": 69,
   "metadata": {},
   "outputs": [
    {
     "data": {
      "text/html": [
       "<div>\n",
       "<style scoped>\n",
       "    .dataframe tbody tr th:only-of-type {\n",
       "        vertical-align: middle;\n",
       "    }\n",
       "\n",
       "    .dataframe tbody tr th {\n",
       "        vertical-align: top;\n",
       "    }\n",
       "\n",
       "    .dataframe thead th {\n",
       "        text-align: right;\n",
       "    }\n",
       "</style>\n",
       "<table border=\"1\" class=\"dataframe\">\n",
       "  <thead>\n",
       "    <tr style=\"text-align: right;\">\n",
       "      <th></th>\n",
       "      <th>BlueCars_taken_sum</th>\n",
       "      <th>WeekdayName</th>\n",
       "      <th>Postal code</th>\n",
       "      <th>day_type</th>\n",
       "    </tr>\n",
       "    <tr>\n",
       "      <th>date</th>\n",
       "      <th></th>\n",
       "      <th></th>\n",
       "      <th></th>\n",
       "      <th></th>\n",
       "    </tr>\n",
       "  </thead>\n",
       "  <tbody>\n",
       "    <tr>\n",
       "      <td>2018-05-23</td>\n",
       "      <td>629</td>\n",
       "      <td>Wednesday</td>\n",
       "      <td>75017</td>\n",
       "      <td>weekday</td>\n",
       "    </tr>\n",
       "    <tr>\n",
       "      <td>2018-05-05</td>\n",
       "      <td>868</td>\n",
       "      <td>Saturday</td>\n",
       "      <td>75017</td>\n",
       "      <td>weekend</td>\n",
       "    </tr>\n",
       "    <tr>\n",
       "      <td>2018-02-04</td>\n",
       "      <td>846</td>\n",
       "      <td>Sunday</td>\n",
       "      <td>75017</td>\n",
       "      <td>weekend</td>\n",
       "    </tr>\n",
       "    <tr>\n",
       "      <td>2018-01-26</td>\n",
       "      <td>702</td>\n",
       "      <td>Friday</td>\n",
       "      <td>75017</td>\n",
       "      <td>weekday</td>\n",
       "    </tr>\n",
       "    <tr>\n",
       "      <td>2018-01-20</td>\n",
       "      <td>945</td>\n",
       "      <td>Saturday</td>\n",
       "      <td>75017</td>\n",
       "      <td>weekend</td>\n",
       "    </tr>\n",
       "    <tr>\n",
       "      <td>2018-03-14</td>\n",
       "      <td>658</td>\n",
       "      <td>Wednesday</td>\n",
       "      <td>75017</td>\n",
       "      <td>weekday</td>\n",
       "    </tr>\n",
       "    <tr>\n",
       "      <td>2018-04-20</td>\n",
       "      <td>724</td>\n",
       "      <td>Friday</td>\n",
       "      <td>75017</td>\n",
       "      <td>weekday</td>\n",
       "    </tr>\n",
       "    <tr>\n",
       "      <td>2018-01-13</td>\n",
       "      <td>992</td>\n",
       "      <td>Saturday</td>\n",
       "      <td>75017</td>\n",
       "      <td>weekend</td>\n",
       "    </tr>\n",
       "    <tr>\n",
       "      <td>2018-02-15</td>\n",
       "      <td>716</td>\n",
       "      <td>Thursday</td>\n",
       "      <td>75017</td>\n",
       "      <td>weekday</td>\n",
       "    </tr>\n",
       "    <tr>\n",
       "      <td>2018-04-07</td>\n",
       "      <td>977</td>\n",
       "      <td>Saturday</td>\n",
       "      <td>75017</td>\n",
       "      <td>weekend</td>\n",
       "    </tr>\n",
       "    <tr>\n",
       "      <td>2018-01-25</td>\n",
       "      <td>718</td>\n",
       "      <td>Thursday</td>\n",
       "      <td>75017</td>\n",
       "      <td>weekday</td>\n",
       "    </tr>\n",
       "    <tr>\n",
       "      <td>2018-04-13</td>\n",
       "      <td>813</td>\n",
       "      <td>Friday</td>\n",
       "      <td>75017</td>\n",
       "      <td>weekday</td>\n",
       "    </tr>\n",
       "    <tr>\n",
       "      <td>2018-01-15</td>\n",
       "      <td>677</td>\n",
       "      <td>Monday</td>\n",
       "      <td>75017</td>\n",
       "      <td>weekday</td>\n",
       "    </tr>\n",
       "    <tr>\n",
       "      <td>2018-05-31</td>\n",
       "      <td>720</td>\n",
       "      <td>Thursday</td>\n",
       "      <td>75017</td>\n",
       "      <td>weekday</td>\n",
       "    </tr>\n",
       "    <tr>\n",
       "      <td>2018-03-05</td>\n",
       "      <td>620</td>\n",
       "      <td>Monday</td>\n",
       "      <td>75017</td>\n",
       "      <td>weekday</td>\n",
       "    </tr>\n",
       "    <tr>\n",
       "      <td>2018-02-11</td>\n",
       "      <td>803</td>\n",
       "      <td>Sunday</td>\n",
       "      <td>75017</td>\n",
       "      <td>weekend</td>\n",
       "    </tr>\n",
       "  </tbody>\n",
       "</table>\n",
       "</div>"
      ],
      "text/plain": [
       "            BlueCars_taken_sum WeekdayName Postal code day_type\n",
       "date                                                           \n",
       "2018-05-23                 629   Wednesday       75017  weekday\n",
       "2018-05-05                 868    Saturday       75017  weekend\n",
       "2018-02-04                 846      Sunday       75017  weekend\n",
       "2018-01-26                 702      Friday       75017  weekday\n",
       "2018-01-20                 945    Saturday       75017  weekend\n",
       "2018-03-14                 658   Wednesday       75017  weekday\n",
       "2018-04-20                 724      Friday       75017  weekday\n",
       "2018-01-13                 992    Saturday       75017  weekend\n",
       "2018-02-15                 716    Thursday       75017  weekday\n",
       "2018-04-07                 977    Saturday       75017  weekend\n",
       "2018-01-25                 718    Thursday       75017  weekday\n",
       "2018-04-13                 813      Friday       75017  weekday\n",
       "2018-01-15                 677      Monday       75017  weekday\n",
       "2018-05-31                 720    Thursday       75017  weekday\n",
       "2018-03-05                 620      Monday       75017  weekday\n",
       "2018-02-11                 803      Sunday       75017  weekend"
      ]
     },
     "execution_count": 69,
     "metadata": {},
     "output_type": "execute_result"
    }
   ],
   "source": [
    "#selecting a sample of postal code 75017\n",
    "np.random.seed(4)\n",
    "sample_2=df2.sample(n=16)\n",
    "sample_2"
   ]
  },
  {
   "cell_type": "code",
   "execution_count": 137,
   "metadata": {},
   "outputs": [
    {
     "name": "stdout",
     "output_type": "stream",
     "text": [
      "908.5\n",
      "775.5\n"
     ]
    }
   ],
   "source": [
    "#descriptive statistics of the samples\n",
    "print(sample_1['BlueCars_taken_sum'].mean())\n",
    "print(sample_2['BlueCars_taken_sum'].mean())"
   ]
  },
  {
   "cell_type": "code",
   "execution_count": 138,
   "metadata": {},
   "outputs": [
    {
     "name": "stdout",
     "output_type": "stream",
     "text": [
      "Statistics=0.913, p=0.000\n",
      "Sample does not look Gaussian\n"
     ]
    }
   ],
   "source": [
    "#checking for normality of the BlueCars_taken_sum\n",
    "from scipy.stats import shapiro \n",
    "\n",
    "# generating univariate observations\n",
    "data = filtered['BlueCars_taken_sum']\n",
    "\n",
    "# testing for normality\n",
    "stat, p = shapiro(data)\n",
    "print('Statistics=%.3f, p=%.3f' % (stat, p))\n",
    "\n",
    "# interpreting\n",
    "alpha = 0.05\n",
    "if p > alpha:\n",
    "\tprint('Sample looks Gaussian')\n",
    "else:\n",
    "\tprint('Sample does not look Gaussian')"
   ]
  },
  {
   "cell_type": "raw",
   "metadata": {},
   "source": [
    "We can see that the sample mean are different, But the question is, is this difference in the mean statistically significant or was it just due to random chance?"
   ]
  },
  {
   "cell_type": "markdown",
   "metadata": {},
   "source": [
    " # Hypothesis Testing 1"
   ]
  },
  {
   "cell_type": "raw",
   "metadata": {},
   "source": [
    "Ho: The mean of Blue cars taken in  areas with postal code 75015 and 75017 is the same\n",
    "Ha: The mean of Blue cars taken in  areas with postal code 75015 and 75017 is different\n",
    "level of significance =0.05\n"
   ]
  },
  {
   "cell_type": "code",
   "execution_count": 77,
   "metadata": {},
   "outputs": [
    {
     "data": {
      "text/plain": [
       "Ttest_indResult(statistic=2.2741134877028197, pvalue=0.030277872726882087)"
      ]
     },
     "execution_count": 77,
     "metadata": {},
     "output_type": "execute_result"
    }
   ],
   "source": [
    "#two sample independet test for postal code 75017 and 75015\n",
    "stats.ttest_ind(sample_1['BlueCars_taken_sum'], sample_2['BlueCars_taken_sum'])"
   ]
  },
  {
   "cell_type": "raw",
   "metadata": {},
   "source": [
    "since the p value is less than 0.05, we reject the null hypothesis \n",
    "Therefore we have enough evidence to support that the sample means of Blue cars taken in  areas with postal code 75015 and 75017 is different"
   ]
  },
  {
   "cell_type": "markdown",
   "metadata": {},
   "source": [
    "# Hypothesis 2\n",
    "(Bonus)"
   ]
  },
  {
   "cell_type": "code",
   "execution_count": 78,
   "metadata": {},
   "outputs": [
    {
     "data": {
      "text/plain": [
       "weekday    11544\n",
       "weekend     4541\n",
       "Name: day_type, dtype: int64"
      ]
     },
     "execution_count": 78,
     "metadata": {},
     "output_type": "execute_result"
    }
   ],
   "source": [
    "autolib['day_type'].value_counts()"
   ]
  },
  {
   "cell_type": "code",
   "execution_count": 84,
   "metadata": {},
   "outputs": [
    {
     "name": "stdout",
     "output_type": "stream",
     "text": [
      "weekday    1154\n",
      "weekend     454\n",
      "Name: day_type, dtype: int64\n",
      "           Postal code n_daily_data_points dayOfWeek day_type  \\\n",
      "date                                                            \n",
      "2018-02-19       94120                1420         0  weekday   \n",
      "2018-03-27       93700                1440         1  weekday   \n",
      "2018-02-12       93500                1440         0  weekday   \n",
      "2018-02-12       75009                1440         0  weekday   \n",
      "2018-03-20       75010                1440         1  weekday   \n",
      "...                ...                 ...       ...      ...   \n",
      "2018-01-21       94300                1440         6  weekend   \n",
      "2018-01-28       95100                1440         6  weekend   \n",
      "2018-01-14       78000                1440         6  weekend   \n",
      "2018-01-13       94140                1440         5  weekend   \n",
      "2018-02-18       93500                1438         6  weekend   \n",
      "\n",
      "            BlueCars_taken_sum  BlueCars_returned_sum  Utilib_taken_sum  \\\n",
      "date                                                                      \n",
      "2018-02-19                  30                     34                 0   \n",
      "2018-03-27                  23                     27                 1   \n",
      "2018-02-12                  25                     26                 1   \n",
      "2018-02-12                 313                    294                16   \n",
      "2018-03-20                 242                    249                 7   \n",
      "...                        ...                    ...               ...   \n",
      "2018-01-21                  84                     94                 1   \n",
      "2018-01-28                  20                     15                 0   \n",
      "2018-01-14                  70                     62                 2   \n",
      "2018-01-13                  88                     85                 4   \n",
      "2018-02-18                  56                     58                 1   \n",
      "\n",
      "            Utilib_returned_sum  Utilib_14_taken_sum  Utilib_14_returned_sum  \\\n",
      "date                                                                           \n",
      "2018-02-19                    0                    4                       2   \n",
      "2018-03-27                    3                    7                       5   \n",
      "2018-02-12                    0                    0                       1   \n",
      "2018-02-12                   14                   19                      18   \n",
      "2018-03-20                    7                   25                      22   \n",
      "...                         ...                  ...                     ...   \n",
      "2018-01-21                    0                    4                       4   \n",
      "2018-01-28                    0                    1                       2   \n",
      "2018-01-14                    1                    7                       7   \n",
      "2018-01-13                    1                    2                       3   \n",
      "2018-02-18                    1                    0                       0   \n",
      "\n",
      "            Slots_freed_sum  Slots_taken_sum  \n",
      "date                                          \n",
      "2018-02-19                0                0  \n",
      "2018-03-27                1                1  \n",
      "2018-02-12                0                0  \n",
      "2018-02-12               83               83  \n",
      "2018-03-20               49               51  \n",
      "...                     ...              ...  \n",
      "2018-01-21                0                0  \n",
      "2018-01-28                0                0  \n",
      "2018-01-14                0                0  \n",
      "2018-01-13                0                0  \n",
      "2018-02-18                0                0  \n",
      "\n",
      "[1608 rows x 12 columns]\n"
     ]
    }
   ],
   "source": [
    "np.random.seed(34)\n",
    "strat_output = autolib.groupby('day_type', group_keys=False).apply(lambda grouped_subset : grouped_subset.sample(frac=0.1))\n",
    "\n",
    "# proportion of the non_stratified sample\n",
    "print(strat_output['day_type'].value_counts())\n",
    "\n",
    "# Check the stratified output\n",
    "print(strat_output)\n"
   ]
  },
  {
   "cell_type": "code",
   "execution_count": 90,
   "metadata": {},
   "outputs": [
    {
     "data": {
      "text/plain": [
       "day_type\n",
       "weekday    121.529463\n",
       "weekend    151.207048\n",
       "Name: BlueCars_taken_sum, dtype: float64"
      ]
     },
     "execution_count": 90,
     "metadata": {},
     "output_type": "execute_result"
    }
   ],
   "source": [
    "strat_output['BlueCars_taken_sum'].groupby(strat_output['day_type']).mean()"
   ]
  },
  {
   "cell_type": "code",
   "execution_count": 102,
   "metadata": {},
   "outputs": [
    {
     "data": {
      "text/plain": [
       "151.09006826690157"
      ]
     },
     "execution_count": 102,
     "metadata": {},
     "output_type": "execute_result"
    }
   ],
   "source": [
    "filtered_2= autolib[['BlueCars_taken_sum', 'day_type' ]]\n",
    "filtered_2= filtered_2[filtered_2['day_type']=='weekend']\n",
    "filtered_2['BlueCars_taken_sum'].mean()"
   ]
  },
  {
   "cell_type": "code",
   "execution_count": 103,
   "metadata": {},
   "outputs": [
    {
     "data": {
      "text/plain": [
       "218.5656415891513"
      ]
     },
     "execution_count": 103,
     "metadata": {},
     "output_type": "execute_result"
    }
   ],
   "source": [
    "filtered_2['BlueCars_taken_sum'].std()"
   ]
  },
  {
   "cell_type": "raw",
   "metadata": {},
   "source": [
    "Ho: The population mean of bluecars been taken on weekends is equal to 151.09\n",
    "Ha: The population mean of bluecars been taken on weekends is not equal to 151.09\n",
    "levele of significance=0.05"
   ]
  },
  {
   "cell_type": "code",
   "execution_count": 104,
   "metadata": {},
   "outputs": [
    {
     "data": {
      "text/plain": [
       "0.011403985605780483"
      ]
     },
     "execution_count": 104,
     "metadata": {},
     "output_type": "execute_result"
    }
   ],
   "source": [
    "import math\n",
    "\n",
    "\n",
    "sample_size =454\n",
    "pop_mean = 151.09006826690157\n",
    "sample_mean = 151.207048\n",
    "pop_std=218.5656415891513\n",
    "# zscore = (sample_mean - pop_mean) / pop_std/sqrt(sample_size)\n",
    "z_score = (151.207048 - 151.09006826690157) / (218.5656415891513/ (math.sqrt(454)))\n",
    "z_score"
   ]
  },
  {
   "cell_type": "raw",
   "metadata": {},
   "source": [
    "since the z score is less than the critical value for 0.05 which is +/-1.96, we fail to reject the null hypothesis. Hence there isnt enough evidence to support the claim that population mean of bluecars been taken on weekends is equal not to 151.09\n",
    "It is safe to say that there is no statistical difference between the population mean and the sample mean.\n",
    "The difference seen may be as a result of sampling error."
   ]
  },
  {
   "cell_type": "raw",
   "metadata": {},
   "source": [
    " "
   ]
  }
 ],
 "metadata": {
  "kernelspec": {
   "display_name": "Python 3",
   "language": "python",
   "name": "python3"
  },
  "language_info": {
   "codemirror_mode": {
    "name": "ipython",
    "version": 3
   },
   "file_extension": ".py",
   "mimetype": "text/x-python",
   "name": "python",
   "nbconvert_exporter": "python",
   "pygments_lexer": "ipython3",
   "version": "3.7.4"
  }
 },
 "nbformat": 4,
 "nbformat_minor": 2
}
